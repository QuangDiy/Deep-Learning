{
  "cells": [
    {
      "cell_type": "code",
      "execution_count": 1,
      "metadata": {
        "colab": {
          "base_uri": "https://localhost:8080/"
        },
        "id": "6ZrdaqhByWTk",
        "outputId": "aa829fb5-5e50-4a33-8db5-b5f627e0321c"
      },
      "outputs": [
        {
          "output_type": "stream",
          "name": "stdout",
          "text": [
            "Collecting idx2numpy\n",
            "  Downloading idx2numpy-1.2.3.tar.gz (6.8 kB)\n",
            "  Preparing metadata (setup.py) ... \u001b[?25l\u001b[?25hdone\n",
            "Requirement already satisfied: numpy in /usr/local/lib/python3.10/dist-packages (from idx2numpy) (1.23.5)\n",
            "Requirement already satisfied: six in /usr/local/lib/python3.10/dist-packages (from idx2numpy) (1.16.0)\n",
            "Building wheels for collected packages: idx2numpy\n",
            "  Building wheel for idx2numpy (setup.py) ... \u001b[?25l\u001b[?25hdone\n",
            "  Created wheel for idx2numpy: filename=idx2numpy-1.2.3-py3-none-any.whl size=7906 sha256=3df10fbcd0081f24b683b97fd0cf9948540cdc6384369cea0dc8fd2f8297bf1e\n",
            "  Stored in directory: /root/.cache/pip/wheels/e0/f4/e7/643fc5f932ec2ff92997f43f007660feb23f948aa8486f1107\n",
            "Successfully built idx2numpy\n",
            "Installing collected packages: idx2numpy\n",
            "Successfully installed idx2numpy-1.2.3\n"
          ]
        }
      ],
      "source": [
        "!pip install idx2numpy"
      ]
    },
    {
      "cell_type": "code",
      "execution_count": 4,
      "metadata": {
        "colab": {
          "base_uri": "https://localhost:8080/"
        },
        "id": "7jXqIjQIv9Zg",
        "outputId": "cdbc1692-af7c-4d40-cc7e-c0dd78cc178b"
      },
      "outputs": [
        {
          "output_type": "stream",
          "name": "stdout",
          "text": [
            "Cloning into 'Deep-Learning'...\n",
            "remote: Enumerating objects: 334, done.\u001b[K\n",
            "remote: Counting objects: 100% (334/334), done.\u001b[K\n",
            "remote: Compressing objects: 100% (239/239), done.\u001b[K\n",
            "remote: Total 334 (delta 169), reused 256 (delta 91), pack-reused 0\u001b[K\n",
            "Receiving objects: 100% (334/334), 11.11 MiB | 14.44 MiB/s, done.\n",
            "Resolving deltas: 100% (169/169), done.\n"
          ]
        }
      ],
      "source": [
        "!rm -rf /content/Deep-Learning\n",
        "!git clone https://github.com/QuangDiy/Deep-Learning.git"
      ]
    },
    {
      "cell_type": "code",
      "execution_count": 5,
      "metadata": {
        "colab": {
          "base_uri": "https://localhost:8080/"
        },
        "id": "pn2R6so3yOxY",
        "outputId": "77100400-2d4b-4378-e0fb-9637ae4d60d0"
      },
      "outputs": [
        {
          "output_type": "stream",
          "name": "stdout",
          "text": [
            "Files already downloaded and verified\n",
            "Files already downloaded and verified\n",
            "Epoch [1/20], loss: 1.6281, accuracy: 0.3984: 100% 313/313 [00:36<00:00,  8.59it/s]\n",
            "Epoch 1/20 | Training Loss: 1.628144 | Val Loss: 1.490549 | Val Acc: 0.485364\n",
            "Validation loss decreased (inf --> 1.490549).  Saving model ...\n",
            "Epoch [2/20], loss: 1.1842, accuracy: 0.5729: 100% 313/313 [00:35<00:00,  8.87it/s]\n",
            "Epoch 2/20 | Training Loss: 1.184222 | Val Loss: 1.166045 | Val Acc: 0.594541\n",
            "Validation loss decreased (1.490549 --> 1.166045).  Saving model ...\n",
            "Epoch [3/20], loss: 0.9450, accuracy: 0.6631: 100% 313/313 [00:35<00:00,  8.93it/s]\n",
            "Epoch 3/20 | Training Loss: 0.944961 | Val Loss: 0.973148 | Val Acc: 0.660997\n",
            "Validation loss decreased (1.166045 --> 0.973148).  Saving model ...\n",
            "Epoch [4/20], loss: 0.7875, accuracy: 0.7217: 100% 313/313 [00:35<00:00,  8.92it/s]\n",
            "Epoch 4/20 | Training Loss: 0.787492 | Val Loss: 0.838450 | Val Acc: 0.717761\n",
            "Validation loss decreased (0.973148 --> 0.838450).  Saving model ...\n",
            "Epoch [5/20], loss: 0.6567, accuracy: 0.7713: 100% 313/313 [00:35<00:00,  8.90it/s]\n",
            "Epoch 5/20 | Training Loss: 0.656730 | Val Loss: 0.738005 | Val Acc: 0.756329\n",
            "Validation loss decreased (0.838450 --> 0.738005).  Saving model ...\n",
            "Epoch [6/20], loss: 0.4293, accuracy: 0.8529: 100% 313/313 [00:35<00:00,  8.91it/s]\n",
            "Epoch 6/20 | Training Loss: 0.429290 | Val Loss: 0.567904 | Val Acc: 0.808050\n",
            "Validation loss decreased (0.738005 --> 0.567904).  Saving model ...\n",
            "Epoch [7/20], loss: 0.3752, accuracy: 0.8697: 100% 313/313 [00:35<00:00,  8.91it/s]\n",
            "Epoch 7/20 | Training Loss: 0.375166 | Val Loss: 0.565530 | Val Acc: 0.812104\n",
            "Validation loss decreased (0.567904 --> 0.565530).  Saving model ...\n",
            "Epoch [8/20], loss: 0.3455, accuracy: 0.8811: 100% 313/313 [00:35<00:00,  8.91it/s]\n",
            "Epoch 8/20 | Training Loss: 0.345503 | Val Loss: 0.563499 | Val Acc: 0.815071\n",
            "Validation loss decreased (0.565530 --> 0.563499).  Saving model ...\n",
            "Epoch [9/20], loss: 0.3200, accuracy: 0.8907: 100% 313/313 [00:35<00:00,  8.91it/s]\n",
            "Epoch 9/20 | Training Loss: 0.320027 | Val Loss: 0.562269 | Val Acc: 0.817642\n",
            "Validation loss decreased (0.563499 --> 0.562269).  Saving model ...\n",
            "Epoch [10/20], loss: 0.2971, accuracy: 0.8965: 100% 313/313 [00:35<00:00,  8.92it/s]\n",
            "Epoch 10/20 | Training Loss: 0.297082 | Val Loss: 0.575020 | Val Acc: 0.814873\n",
            "Epoch [11/20], loss: 0.2603, accuracy: 0.9121: 100% 313/313 [00:35<00:00,  8.93it/s]\n",
            "Epoch 11/20 | Training Loss: 0.260273 | Val Loss: 0.563053 | Val Acc: 0.821697\n",
            "Epoch [12/20], loss: 0.2559, accuracy: 0.9142: 100% 313/313 [00:35<00:00,  8.92it/s]\n",
            "Epoch 12/20 | Training Loss: 0.255881 | Val Loss: 0.563650 | Val Acc: 0.819620\n",
            "Early stopping\n",
            "Accuracy: 0.8241 | F1 Score: 0.8235 | Precision: 0.8242 | Recall: 0.8241\n",
            "Class F1-score   Accuracy   Precision  Recall    \n",
            "0     0.8312     0.8150     0.8481     0.8150    \n",
            "1     0.9252     0.9210     0.9294     0.9210    \n",
            "2     0.7381     0.7230     0.7539     0.7230    \n",
            "3     0.6843     0.6730     0.6960     0.6730    \n",
            "4     0.7946     0.8280     0.7638     0.8280    \n",
            "5     0.7540     0.7370     0.7717     0.7370    \n",
            "6     0.8521     0.8990     0.8099     0.8990    \n",
            "7     0.8537     0.8230     0.8869     0.8230    \n",
            "8     0.9041     0.9190     0.8896     0.9190    \n",
            "9     0.8976     0.9030     0.8923     0.9030    \n"
          ]
        }
      ],
      "source": [
        "!python /content/Deep-Learning/Lab_3/Lab_3_ResNet-18/training.py"
      ]
    }
  ],
  "metadata": {
    "accelerator": "GPU",
    "colab": {
      "provenance": []
    },
    "kernelspec": {
      "display_name": "Python 3",
      "name": "python3"
    },
    "language_info": {
      "name": "python"
    }
  },
  "nbformat": 4,
  "nbformat_minor": 0
}