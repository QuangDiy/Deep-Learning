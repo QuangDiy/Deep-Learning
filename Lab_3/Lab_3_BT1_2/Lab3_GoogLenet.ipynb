{
  "cells": [
    {
      "cell_type": "code",
      "execution_count": 1,
      "metadata": {
        "colab": {
          "base_uri": "https://localhost:8080/"
        },
        "id": "6ZrdaqhByWTk",
        "outputId": "e9ad9a39-4bf8-4005-aac1-968650d903cb"
      },
      "outputs": [
        {
          "output_type": "stream",
          "name": "stdout",
          "text": [
            "Collecting idx2numpy\n",
            "  Downloading idx2numpy-1.2.3.tar.gz (6.8 kB)\n",
            "  Preparing metadata (setup.py) ... \u001b[?25l\u001b[?25hdone\n",
            "Requirement already satisfied: numpy in /usr/local/lib/python3.10/dist-packages (from idx2numpy) (1.23.5)\n",
            "Requirement already satisfied: six in /usr/local/lib/python3.10/dist-packages (from idx2numpy) (1.16.0)\n",
            "Building wheels for collected packages: idx2numpy\n",
            "  Building wheel for idx2numpy (setup.py) ... \u001b[?25l\u001b[?25hdone\n",
            "  Created wheel for idx2numpy: filename=idx2numpy-1.2.3-py3-none-any.whl size=7906 sha256=101ac821b3bcb155f36e4ecbe8217977bcdbf08134be9ac2d4605a0551e62a26\n",
            "  Stored in directory: /root/.cache/pip/wheels/e0/f4/e7/643fc5f932ec2ff92997f43f007660feb23f948aa8486f1107\n",
            "Successfully built idx2numpy\n",
            "Installing collected packages: idx2numpy\n",
            "Successfully installed idx2numpy-1.2.3\n"
          ]
        }
      ],
      "source": [
        "!pip install idx2numpy"
      ]
    },
    {
      "cell_type": "code",
      "execution_count": 2,
      "metadata": {
        "colab": {
          "base_uri": "https://localhost:8080/"
        },
        "id": "7jXqIjQIv9Zg",
        "outputId": "f93f6693-bede-4f7b-c70c-b1d3f9d7a2d8"
      },
      "outputs": [
        {
          "output_type": "stream",
          "name": "stdout",
          "text": [
            "Cloning into 'Deep-Learning'...\n",
            "remote: Enumerating objects: 400, done.\u001b[K\n",
            "remote: Total 400 (delta 0), reused 0 (delta 0), pack-reused 400\u001b[K\n",
            "Receiving objects: 100% (400/400), 11.38 MiB | 16.60 MiB/s, done.\n",
            "Resolving deltas: 100% (208/208), done.\n"
          ]
        }
      ],
      "source": [
        "# !rm -rf /content/Deep-Learning\n",
        "!git clone https://github.com/QuangDiy/Deep-Learning.git"
      ]
    },
    {
      "cell_type": "code",
      "execution_count": 3,
      "metadata": {
        "colab": {
          "base_uri": "https://localhost:8080/"
        },
        "id": "pn2R6so3yOxY",
        "outputId": "a371f70a-e8cf-447f-de36-a06861e5eb1b"
      },
      "outputs": [
        {
          "output_type": "stream",
          "name": "stdout",
          "text": [
            "Epoch [1/50], loss: 2.3016, accuracy: 0.1112: 100% 375/375 [00:17<00:00, 21.63it/s]\n",
            "Epoch 1/50 | Training Loss: 2.301649 | Val Loss: 2.301278 | Val Acc: 0.110234\n",
            "Validation loss decreased (inf --> 2.301278).  Saving model ...\n",
            "Epoch [2/50], loss: 2.3013, accuracy: 0.1129: 100% 375/375 [00:10<00:00, 34.40it/s]\n",
            "Epoch 2/50 | Training Loss: 2.301312 | Val Loss: 2.301664 | Val Acc: 0.110234\n",
            "Epoch [3/50], loss: 2.3013, accuracy: 0.1129: 100% 375/375 [00:10<00:00, 35.57it/s]\n",
            "Epoch 3/50 | Training Loss: 2.301308 | Val Loss: 2.301187 | Val Acc: 0.110234\n",
            "Validation loss decreased (2.301278 --> 2.301187).  Saving model ...\n",
            "Epoch [4/50], loss: 2.3009, accuracy: 0.1129: 100% 375/375 [00:10<00:00, 35.92it/s]\n",
            "Epoch 4/50 | Training Loss: 2.300948 | Val Loss: 2.300142 | Val Acc: 0.110234\n",
            "Validation loss decreased (2.301187 --> 2.300142).  Saving model ...\n",
            "Epoch [5/50], loss: 2.2285, accuracy: 0.1548: 100% 375/375 [00:10<00:00, 34.98it/s]\n",
            "Epoch 5/50 | Training Loss: 2.228488 | Val Loss: 1.977140 | Val Acc: 0.219914\n",
            "Validation loss decreased (2.300142 --> 1.977140).  Saving model ...\n",
            "Epoch [6/50], loss: 1.7657, accuracy: 0.3037: 100% 375/375 [00:10<00:00, 34.44it/s]\n",
            "Epoch 6/50 | Training Loss: 1.765741 | Val Loss: 1.239870 | Val Acc: 0.477975\n",
            "Validation loss decreased (1.977140 --> 1.239870).  Saving model ...\n",
            "Epoch [7/50], loss: 0.9573, accuracy: 0.6335: 100% 375/375 [00:10<00:00, 34.12it/s]\n",
            "Epoch 7/50 | Training Loss: 0.957280 | Val Loss: 0.367769 | Val Acc: 0.904976\n",
            "Validation loss decreased (1.239870 --> 0.367769).  Saving model ...\n",
            "Epoch [8/50], loss: 0.1636, accuracy: 0.9569: 100% 375/375 [00:10<00:00, 34.17it/s]\n",
            "Epoch 8/50 | Training Loss: 0.163573 | Val Loss: 0.105110 | Val Acc: 0.973681\n",
            "Validation loss decreased (0.367769 --> 0.105110).  Saving model ...\n",
            "Epoch [9/50], loss: 0.0824, accuracy: 0.9781: 100% 375/375 [00:10<00:00, 34.42it/s]\n",
            "Epoch 9/50 | Training Loss: 0.082356 | Val Loss: 0.070085 | Val Acc: 0.981854\n",
            "Validation loss decreased (0.105110 --> 0.070085).  Saving model ...\n",
            "Epoch [10/50], loss: 0.0559, accuracy: 0.9848: 100% 375/375 [00:10<00:00, 35.19it/s]\n",
            "Epoch 10/50 | Training Loss: 0.055916 | Val Loss: 0.057679 | Val Acc: 0.986037\n",
            "Validation loss decreased (0.070085 --> 0.057679).  Saving model ...\n",
            "Epoch [11/50], loss: 0.0233, accuracy: 0.9940: 100% 375/375 [00:10<00:00, 34.92it/s]\n",
            "Epoch 11/50 | Training Loss: 0.023339 | Val Loss: 0.043460 | Val Acc: 0.990137\n",
            "Validation loss decreased (0.057679 --> 0.043460).  Saving model ...\n",
            "Epoch [12/50], loss: 0.0174, accuracy: 0.9955: 100% 375/375 [00:10<00:00, 34.53it/s]\n",
            "Epoch 12/50 | Training Loss: 0.017380 | Val Loss: 0.044799 | Val Acc: 0.989805\n",
            "Epoch [13/50], loss: 0.0152, accuracy: 0.9964: 100% 375/375 [00:10<00:00, 34.39it/s]\n",
            "Epoch 13/50 | Training Loss: 0.015237 | Val Loss: 0.044576 | Val Acc: 0.989666\n",
            "Epoch [14/50], loss: 0.0134, accuracy: 0.9969: 100% 375/375 [00:11<00:00, 34.05it/s]\n",
            "Epoch 14/50 | Training Loss: 0.013376 | Val Loss: 0.044836 | Val Acc: 0.990137\n",
            "Early stopping\n",
            "Accuracy: 0.9917 | F1 Score: 0.9916 | Precision: 0.9918 | Recall: 0.9916\n",
            "Class F1-score   Accuracy   Precision  Recall    \n",
            "0     0.9914     0.9990     0.9839     0.9990    \n",
            "1     0.9947     0.9965     0.9930     0.9965    \n",
            "2     0.9908     0.9952     0.9866     0.9952    \n",
            "3     0.9931     0.9950     0.9911     0.9950    \n",
            "4     0.9934     0.9939     0.9929     0.9939    \n",
            "5     0.9910     0.9899     0.9921     0.9899    \n",
            "6     0.9895     0.9812     0.9979     0.9812    \n",
            "7     0.9917     0.9893     0.9941     0.9893    \n",
            "8     0.9907     0.9856     0.9959     0.9856    \n",
            "9     0.9901     0.9901     0.9901     0.9901    \n"
          ]
        }
      ],
      "source": [
        "!python /content/Deep-Learning/Lab_3/Lab_3_BT1_2/training.py"
      ]
    }
  ],
  "metadata": {
    "accelerator": "GPU",
    "colab": {
      "provenance": []
    },
    "kernelspec": {
      "display_name": "Python 3",
      "name": "python3"
    },
    "language_info": {
      "name": "python"
    }
  },
  "nbformat": 4,
  "nbformat_minor": 0
}