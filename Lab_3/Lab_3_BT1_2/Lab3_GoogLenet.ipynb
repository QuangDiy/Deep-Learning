{
  "cells": [
    {
      "cell_type": "code",
      "execution_count": 1,
      "metadata": {
        "colab": {
          "base_uri": "https://localhost:8080/"
        },
        "id": "6ZrdaqhByWTk",
        "outputId": "a57035bf-86ba-40ea-b423-fcdcc9836498"
      },
      "outputs": [
        {
          "output_type": "stream",
          "name": "stdout",
          "text": [
            "Collecting idx2numpy\n",
            "  Downloading idx2numpy-1.2.3.tar.gz (6.8 kB)\n",
            "  Preparing metadata (setup.py) ... \u001b[?25l\u001b[?25hdone\n",
            "Requirement already satisfied: numpy in /usr/local/lib/python3.10/dist-packages (from idx2numpy) (1.23.5)\n",
            "Requirement already satisfied: six in /usr/local/lib/python3.10/dist-packages (from idx2numpy) (1.16.0)\n",
            "Building wheels for collected packages: idx2numpy\n",
            "  Building wheel for idx2numpy (setup.py) ... \u001b[?25l\u001b[?25hdone\n",
            "  Created wheel for idx2numpy: filename=idx2numpy-1.2.3-py3-none-any.whl size=7906 sha256=1523efa5255c66959296fd524cc39b0a3fc7327879ed12f38785a1e1d83d2e37\n",
            "  Stored in directory: /root/.cache/pip/wheels/e0/f4/e7/643fc5f932ec2ff92997f43f007660feb23f948aa8486f1107\n",
            "Successfully built idx2numpy\n",
            "Installing collected packages: idx2numpy\n",
            "Successfully installed idx2numpy-1.2.3\n"
          ]
        }
      ],
      "source": [
        "!pip install idx2numpy"
      ]
    },
    {
      "cell_type": "code",
      "execution_count": 9,
      "metadata": {
        "colab": {
          "base_uri": "https://localhost:8080/"
        },
        "id": "7jXqIjQIv9Zg",
        "outputId": "22134d81-cbf1-45f3-8fe3-d0d45bf08538"
      },
      "outputs": [
        {
          "output_type": "stream",
          "name": "stdout",
          "text": [
            "Cloning into 'Deep-Learning'...\n",
            "remote: Enumerating objects: 354, done.\u001b[K\n",
            "remote: Counting objects: 100% (354/354), done.\u001b[K\n",
            "remote: Compressing objects: 100% (253/253), done.\u001b[K\n",
            "remote: Total 354 (delta 181), reused 270 (delta 97), pack-reused 0\u001b[K\n",
            "Receiving objects: 100% (354/354), 11.12 MiB | 17.92 MiB/s, done.\n",
            "Resolving deltas: 100% (181/181), done.\n"
          ]
        }
      ],
      "source": [
        "!rm -rf /content/Deep-Learning\n",
        "!git clone https://github.com/QuangDiy/Deep-Learning.git"
      ]
    },
    {
      "cell_type": "code",
      "execution_count": 10,
      "metadata": {
        "colab": {
          "base_uri": "https://localhost:8080/"
        },
        "id": "pn2R6so3yOxY",
        "outputId": "ba0968c3-3aae-4bd0-e5a9-126f714d7da5"
      },
      "outputs": [
        {
          "output_type": "stream",
          "name": "stdout",
          "text": [
            "Epoch [1/50], loss: 2.3015, accuracy: 0.1123: 100% 375/375 [00:12<00:00, 30.39it/s]\n",
            "Epoch 1/50 | Training Loss: 2.301498 | Val Loss: 2.301632 | Val Acc: 0.110234\n",
            "Validation loss decreased (inf --> 2.301632).  Saving model ...\n",
            "Epoch [2/50], loss: 2.3014, accuracy: 0.1129: 100% 375/375 [00:10<00:00, 34.52it/s]\n",
            "Epoch 2/50 | Training Loss: 2.301356 | Val Loss: 2.301562 | Val Acc: 0.110234\n",
            "Validation loss decreased (2.301632 --> 2.301562).  Saving model ...\n",
            "Epoch [3/50], loss: 2.3012, accuracy: 0.1129: 100% 375/375 [00:10<00:00, 34.29it/s]\n",
            "Epoch 3/50 | Training Loss: 2.301186 | Val Loss: 2.301225 | Val Acc: 0.110234\n",
            "Validation loss decreased (2.301562 --> 2.301225).  Saving model ...\n",
            "Epoch [4/50], loss: 2.3007, accuracy: 0.1129: 100% 375/375 [00:10<00:00, 34.17it/s]\n",
            "Epoch 4/50 | Training Loss: 2.300750 | Val Loss: 2.299925 | Val Acc: 0.110234\n",
            "Validation loss decreased (2.301225 --> 2.299925).  Saving model ...\n",
            "Epoch [5/50], loss: 2.2712, accuracy: 0.1583: 100% 375/375 [00:10<00:00, 34.63it/s]\n",
            "Epoch 5/50 | Training Loss: 2.271192 | Val Loss: 2.269594 | Val Acc: 0.186586\n",
            "Validation loss decreased (2.299925 --> 2.269594).  Saving model ...\n",
            "Epoch [6/50], loss: 1.7367, accuracy: 0.3173: 100% 375/375 [00:10<00:00, 35.55it/s]\n",
            "Epoch 6/50 | Training Loss: 1.736742 | Val Loss: 1.339517 | Val Acc: 0.488115\n",
            "Validation loss decreased (2.269594 --> 1.339517).  Saving model ...\n",
            "Epoch [7/50], loss: 1.6714, accuracy: 0.3574: 100% 375/375 [00:10<00:00, 35.23it/s]\n",
            "Epoch 7/50 | Training Loss: 1.671381 | Val Loss: 1.080722 | Val Acc: 0.571698\n",
            "Validation loss decreased (1.339517 --> 1.080722).  Saving model ...\n",
            "Epoch [8/50], loss: 0.5474, accuracy: 0.8201: 100% 375/375 [00:10<00:00, 34.43it/s]\n",
            "Epoch 8/50 | Training Loss: 0.547436 | Val Loss: 0.217628 | Val Acc: 0.944897\n",
            "Validation loss decreased (1.080722 --> 0.217628).  Saving model ...\n",
            "Epoch [9/50], loss: 0.1601, accuracy: 0.9557: 100% 375/375 [00:10<00:00, 34.70it/s]\n",
            "Epoch 9/50 | Training Loss: 0.160097 | Val Loss: 0.114596 | Val Acc: 0.967780\n",
            "Validation loss decreased (0.217628 --> 0.114596).  Saving model ...\n",
            "Epoch [10/50], loss: 0.1067, accuracy: 0.9714: 100% 375/375 [00:10<00:00, 34.58it/s]\n",
            "Epoch 10/50 | Training Loss: 0.106678 | Val Loss: 0.100365 | Val Acc: 0.972102\n",
            "Validation loss decreased (0.114596 --> 0.100365).  Saving model ...\n",
            "Epoch [11/50], loss: 0.0509, accuracy: 0.9860: 100% 375/375 [00:10<00:00, 34.34it/s]\n",
            "Epoch 11/50 | Training Loss: 0.050859 | Val Loss: 0.060253 | Val Acc: 0.984597\n",
            "Validation loss decreased (0.100365 --> 0.060253).  Saving model ...\n",
            "Epoch [12/50], loss: 0.0404, accuracy: 0.9890: 100% 375/375 [00:10<00:00, 34.41it/s]\n",
            "Epoch 12/50 | Training Loss: 0.040400 | Val Loss: 0.057408 | Val Acc: 0.985289\n",
            "Validation loss decreased (0.060253 --> 0.057408).  Saving model ...\n",
            "Epoch [13/50], loss: 0.0353, accuracy: 0.9904: 100% 375/375 [00:11<00:00, 33.19it/s]\n",
            "Epoch 13/50 | Training Loss: 0.035315 | Val Loss: 0.057477 | Val Acc: 0.985206\n",
            "Epoch [14/50], loss: 0.0320, accuracy: 0.9912: 100% 375/375 [00:10<00:00, 34.64it/s]\n",
            "Epoch 14/50 | Training Loss: 0.031961 | Val Loss: 0.053427 | Val Acc: 0.986259\n",
            "Validation loss decreased (0.057408 --> 0.053427).  Saving model ...\n",
            "Epoch [15/50], loss: 0.0291, accuracy: 0.9919: 100% 375/375 [00:10<00:00, 34.45it/s]\n",
            "Epoch 15/50 | Training Loss: 0.029084 | Val Loss: 0.052214 | Val Acc: 0.986951\n",
            "Validation loss decreased (0.053427 --> 0.052214).  Saving model ...\n",
            "Epoch [16/50], loss: 0.0263, accuracy: 0.9929: 100% 375/375 [00:10<00:00, 34.76it/s]\n",
            "Epoch 16/50 | Training Loss: 0.026333 | Val Loss: 0.053540 | Val Acc: 0.986868\n",
            "Epoch [17/50], loss: 0.0235, accuracy: 0.9935: 100% 375/375 [00:10<00:00, 34.83it/s]\n",
            "Epoch 17/50 | Training Loss: 0.023487 | Val Loss: 0.053701 | Val Acc: 0.987035\n",
            "Epoch [18/50], loss: 0.0211, accuracy: 0.9941: 100% 375/375 [00:10<00:00, 35.21it/s]\n",
            "Epoch 18/50 | Training Loss: 0.021121 | Val Loss: 0.055994 | Val Acc: 0.987201\n",
            "Early stopping\n",
            "Accuracy: 0.9883 | F1 Score: 0.9882 | Precision: 0.9882 | Recall: 0.9882\n",
            "Class F1-score   Accuracy   Precision  Recall    \n",
            "0     0.9913     0.9929     0.9898     0.9929    \n",
            "1     0.9925     0.9912     0.9938     0.9912    \n",
            "2     0.9913     0.9903     0.9922     0.9903    \n",
            "3     0.9906     0.9941     0.9872     0.9941    \n",
            "4     0.9908     0.9868     0.9949     0.9868    \n",
            "5     0.9860     0.9877     0.9844     0.9877    \n",
            "6     0.9895     0.9843     0.9947     0.9843    \n",
            "7     0.9874     0.9903     0.9845     0.9903    \n",
            "8     0.9816     0.9867     0.9766     0.9867    \n",
            "9     0.9811     0.9782     0.9840     0.9782    \n"
          ]
        }
      ],
      "source": [
        "!python /content/Deep-Learning/Lab_3/Lab_3_BT1_2/training.py"
      ]
    }
  ],
  "metadata": {
    "accelerator": "GPU",
    "colab": {
      "provenance": []
    },
    "kernelspec": {
      "display_name": "Python 3",
      "name": "python3"
    },
    "language_info": {
      "name": "python"
    }
  },
  "nbformat": 4,
  "nbformat_minor": 0
}