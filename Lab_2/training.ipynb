{
 "cells": [
  {
   "cell_type": "code",
   "execution_count": null,
   "metadata": {},
   "outputs": [],
   "source": [
    "import torch\n",
    "import torchvision\n",
    "from torchvision.datasets import FashionMNIST\n",
    "from torchvision import transforms\n",
    "\n",
    "train_loader = torch.utils.data.DataLoader(FashionMNIST('/files/', train=True, download=True,\\\n",
    "                        transform=transforms.Compose([\\\n",
    "                            transforms.ToTensor(),\\\n",
    "                            transforms.Normalize((0.1307,), (0.3081,))\\\n",
    "                        ])), batch_size = 64, shuffle=True)\n",
    "\n",
    "trainset = train_loader.dataset\n",
    "\n",
    "len(trainset)"
   ]
  }
 ],
 "metadata": {
  "kernelspec": {
   "display_name": "venv",
   "language": "python",
   "name": "python3"
  },
  "language_info": {
   "codemirror_mode": {
    "name": "ipython",
    "version": 3
   },
   "file_extension": ".py",
   "mimetype": "text/x-python",
   "name": "python",
   "nbconvert_exporter": "python",
   "pygments_lexer": "ipython3",
   "version": "3.11.6"
  }
 },
 "nbformat": 4,
 "nbformat_minor": 2
}
